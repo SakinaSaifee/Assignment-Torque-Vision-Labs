{
 "cells": [
  {
   "cell_type": "code",
   "execution_count": null,
   "metadata": {},
   "outputs": [],
   "source": [
    "from selenium import webdriver\n",
    "import pandas as pd\n",
    "import matplotlib.pyplot as plt\n",
    "from bs4 import BeautifulSoup\n",
    "df = pd.DataFrame(columns=[\"Title\", \"Price\"])"
   ]
  },
  {
   "cell_type": "code",
   "execution_count": null,
   "metadata": {},
   "outputs": [],
   "source": [
    "driver = webdriver.Chrome(\"C:/Users/acer/Desktop/Machine Learning/chromedriver_win32/chromedriver\")"
   ]
  },
  {
   "cell_type": "code",
   "execution_count": null,
   "metadata": {},
   "outputs": [],
   "source": [
    "from time import sleep\n",
    "for i in range(0, 500, 10):\n",
    "    driver.get(\"https://www.kayak.co.in/New-Delhi-Hotels.32821.hotel.ksp\"+str(i))\n",
    "    titles = []\n",
    "    prices = []\n",
    "   \n",
    "    sleep(5)\n",
    "    elements = driver.find_elements_by_class_name(\"cityHotelCard__information\")\n",
    "    for job in elements:\n",
    "        soup = BeautifulSoup(job.get_attribute(\"innerHTML\"), 'html.parser')\n",
    "        try:\n",
    "            title = soup.find(class_=\"cityHotelCard__title\").text.replace(\"\\n\",\"\").strip()\n",
    "            titles.append(title)\n",
    "        except:\n",
    "            title = None\n",
    "            titles.append(title)\n",
    "        \n",
    "        try:\n",
    "            price = soup.find( class_=\"cityHotelCard__price\").text.replace(\"\\n\",\"\").strip()\n",
    "            prices.append(price)\n",
    "        except:\n",
    "            price = None\n",
    "            prices.append(price)\n",
    "        \n",
    "       \n",
    "    \n",
    "df = pd.DataFrame({\n",
    "    \"Title\":titles,\n",
    "    \"Price\":prices,\n",
    "})\n",
    "df.to_csv(\"Delhi_Hotels.csv\")"
   ]
  }
 ],
 "metadata": {
  "kernelspec": {
   "display_name": "Python 3",
   "language": "python",
   "name": "python3"
  },
  "language_info": {
   "codemirror_mode": {
    "name": "ipython",
    "version": 3
   },
   "file_extension": ".py",
   "mimetype": "text/x-python",
   "name": "python",
   "nbconvert_exporter": "python",
   "pygments_lexer": "ipython3",
   "version": "3.7.4"
  }
 },
 "nbformat": 4,
 "nbformat_minor": 2
}
